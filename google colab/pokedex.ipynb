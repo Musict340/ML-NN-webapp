{
  "nbformat": 4,
  "nbformat_minor": 0,
  "metadata": {
    "colab": {
      "provenance": []
    },
    "kernelspec": {
      "name": "python3",
      "display_name": "Python 3"
    },
    "language_info": {
      "name": "python"
    }
  },
  "cells": [
    {
      "cell_type": "code",
      "execution_count": null,
      "metadata": {
        "colab": {
          "base_uri": "https://localhost:8080/"
        },
        "id": "DX2XA-jIkfbY",
        "outputId": "035a716f-911c-4cca-d003-fe9e5962c6c9"
      },
      "outputs": [
        {
          "output_type": "stream",
          "name": "stdout",
          "text": [
            "   id        name  height  weight  hp  attack  defense  s_attack  s_defense  \\\n",
            "0   1   bulbasaur       7      69  45      49       49        65         65   \n",
            "1   2     ivysaur      10     130  60      62       63        80         80   \n",
            "2   3    venusaur      20    1000  80      82       83       100        100   \n",
            "3   4  charmander       6      85  39      52       43        60         50   \n",
            "4   5  charmeleon      11     190  58      64       58        80         65   \n",
            "\n",
            "   speed type_1  type_2  \n",
            "0     45  grass  poison  \n",
            "1     60  grass  poison  \n",
            "2     80  grass  poison  \n",
            "3     65   fire     NaN  \n",
            "4     80   fire     NaN  \n"
          ]
        }
      ],
      "source": [
        "import pandas as pd\n",
        "file_path = \"/content/drive/My Drive/IS_project/cleaned_pokedex.csv\"\n",
        "df = pd.read_csv(file_path)\n",
        "print(df.head())\n"
      ]
    },
    {
      "cell_type": "code",
      "source": [
        "from google.colab import drive\n",
        "drive.mount('/content/drive')"
      ],
      "metadata": {
        "colab": {
          "base_uri": "https://localhost:8080/"
        },
        "id": "rmplue_T7reu",
        "outputId": "664e0954-c6ec-49ca-e36a-de7a7f16a0c3"
      },
      "execution_count": null,
      "outputs": [
        {
          "output_type": "stream",
          "name": "stdout",
          "text": [
            "Drive already mounted at /content/drive; to attempt to forcibly remount, call drive.mount(\"/content/drive\", force_remount=True).\n"
          ]
        }
      ]
    },
    {
      "cell_type": "code",
      "source": [
        "from sklearn.model_selection import train_test_split\n",
        "from sklearn.preprocessing import StandardScaler, LabelEncoder\n",
        "from sklearn.ensemble import RandomForestClassifier\n",
        "from sklearn.metrics import accuracy_score\n",
        "\n",
        "\n",
        "url = \"/content/drive/My Drive/IS_project/cleaned_pokedex.csv\"\n",
        "df = pd.read_csv(url)\n",
        "\n",
        "# ลบค่า outlier (น้ำหนัก > 5000)\n",
        "df = df[df['weight'] < 5000]\n",
        "\n",
        "# เลือก features\n",
        "features = ['height', 'weight', 'hp', 'attack', 'defense', 's_attack', 's_defense', 'speed']\n",
        "X = df[features]\n",
        "\n",
        "# แปลง target (type_1) → Label Encoding\n",
        "le = LabelEncoder()\n",
        "y = le.fit_transform(df['type_1'])\n",
        "\n",
        "# Standardization\n",
        "scaler = StandardScaler()\n",
        "X_scaled = scaler.fit_transform(X)\n",
        "\n",
        "# train/test\n",
        "X_train, X_test, y_train, y_test = train_test_split(X_scaled, y, test_size=0.2, random_state=42, stratify=y)\n",
        "\n",
        "# Train Model Random Forest\n",
        "rf = RandomForestClassifier(n_estimators=200, max_depth=10, class_weight='balanced', random_state=42)\n",
        "rf.fit(X_train, y_train)\n",
        "\n",
        "\n",
        "y_pred = rf.predict(X_test)\n",
        "accuracy = accuracy_score(y_test, y_pred)\n",
        "\n",
        "print(f\"Final Model Accuracy: {accuracy:.2f}\")"
      ],
      "metadata": {
        "colab": {
          "base_uri": "https://localhost:8080/"
        },
        "id": "lo4GMLn48x83",
        "outputId": "2d54bab9-382e-449c-8da0-9cead998ab46"
      },
      "execution_count": null,
      "outputs": [
        {
          "output_type": "stream",
          "name": "stdout",
          "text": [
            "🚀 Final Model Accuracy: 0.19\n"
          ]
        }
      ]
    },
    {
      "cell_type": "code",
      "source": [
        "# เลือก Features ที่สำคัญกว่าเดิม\n",
        "selected_features = ['attack', 'defense', 'hp', 'speed', 's_attack', 's_defense']\n",
        "X_train_selected = X_train[:, [features.index(f) for f in selected_features]]\n",
        "X_test_selected = X_test[:, [features.index(f) for f in selected_features]]\n",
        "\n",
        "# Train โมเดล\n",
        "rf_selected = RandomForestClassifier(n_estimators=200, max_depth=10, class_weight='balanced', random_state=42)\n",
        "rf_selected.fit(X_train_selected, y_train)\n",
        "\n",
        "# ทดสอบโมเดล\n",
        "y_pred_selected = rf_selected.predict(X_test_selected)\n",
        "accuracy_selected = accuracy_score(y_test, y_pred_selected)\n",
        "\n",
        "print(f\"Accuracy Features เพิ่มเติม: {accuracy_selected:.2f}\")"
      ],
      "metadata": {
        "colab": {
          "base_uri": "https://localhost:8080/"
        },
        "id": "B76M8r47Vr-v",
        "outputId": "baff9d6c-1b49-4f2f-8b35-21240dc611a5"
      },
      "execution_count": null,
      "outputs": [
        {
          "output_type": "stream",
          "name": "stdout",
          "text": [
            "🚀 Accuracy หลังใช้ Features เพิ่มเติม: 0.19\n"
          ]
        }
      ]
    },
    {
      "cell_type": "code",
      "source": [
        "import joblib\n",
        "import os\n",
        "\n",
        "os.makedirs(\"models\", exist_ok=True)\n",
        "model = RandomForestClassifier(n_estimators=200, max_depth=10, class_weight='balanced', random_state=42)\n",
        "model.fit(X_train_selected, y_train)\n",
        "\n",
        "joblib.dump(le, \"models/label_encoder.pkl\")\n",
        "joblib.dump(model, \"models/pokedex_model.pkl\")"
      ],
      "metadata": {
        "colab": {
          "base_uri": "https://localhost:8080/"
        },
        "id": "x-DxbVzI7FXt",
        "outputId": "f013b133-9085-481f-c730-e8bfc569f1f4"
      },
      "execution_count": null,
      "outputs": [
        {
          "output_type": "stream",
          "name": "stdout",
          "text": [
            "✅ บันทึกไฟล์เรียบร้อยแล้ว!\n"
          ]
        }
      ]
    },
    {
      "cell_type": "code",
      "source": [
        "from google.colab import files\n",
        "files.download(\"models/label_encoder.pkl\")\n",
        "files.download(\"models/pokedex_model.pkl\")\n"
      ],
      "metadata": {
        "colab": {
          "base_uri": "https://localhost:8080/",
          "height": 17
        },
        "id": "KOvvUB8rdud4",
        "outputId": "4044fe2e-8e82-42c6-9ce4-d0259c71d5ed"
      },
      "execution_count": null,
      "outputs": [
        {
          "output_type": "display_data",
          "data": {
            "text/plain": [
              "<IPython.core.display.Javascript object>"
            ],
            "application/javascript": [
              "\n",
              "    async function download(id, filename, size) {\n",
              "      if (!google.colab.kernel.accessAllowed) {\n",
              "        return;\n",
              "      }\n",
              "      const div = document.createElement('div');\n",
              "      const label = document.createElement('label');\n",
              "      label.textContent = `Downloading \"${filename}\": `;\n",
              "      div.appendChild(label);\n",
              "      const progress = document.createElement('progress');\n",
              "      progress.max = size;\n",
              "      div.appendChild(progress);\n",
              "      document.body.appendChild(div);\n",
              "\n",
              "      const buffers = [];\n",
              "      let downloaded = 0;\n",
              "\n",
              "      const channel = await google.colab.kernel.comms.open(id);\n",
              "      // Send a message to notify the kernel that we're ready.\n",
              "      channel.send({})\n",
              "\n",
              "      for await (const message of channel.messages) {\n",
              "        // Send a message to notify the kernel that we're ready.\n",
              "        channel.send({})\n",
              "        if (message.buffers) {\n",
              "          for (const buffer of message.buffers) {\n",
              "            buffers.push(buffer);\n",
              "            downloaded += buffer.byteLength;\n",
              "            progress.value = downloaded;\n",
              "          }\n",
              "        }\n",
              "      }\n",
              "      const blob = new Blob(buffers, {type: 'application/binary'});\n",
              "      const a = document.createElement('a');\n",
              "      a.href = window.URL.createObjectURL(blob);\n",
              "      a.download = filename;\n",
              "      div.appendChild(a);\n",
              "      a.click();\n",
              "      div.remove();\n",
              "    }\n",
              "  "
            ]
          },
          "metadata": {}
        },
        {
          "output_type": "display_data",
          "data": {
            "text/plain": [
              "<IPython.core.display.Javascript object>"
            ],
            "application/javascript": [
              "download(\"download_06e69e01-8533-421f-8e77-9891006f4a42\", \"label_encoder.pkl\", 740)"
            ]
          },
          "metadata": {}
        },
        {
          "output_type": "display_data",
          "data": {
            "text/plain": [
              "<IPython.core.display.Javascript object>"
            ],
            "application/javascript": [
              "\n",
              "    async function download(id, filename, size) {\n",
              "      if (!google.colab.kernel.accessAllowed) {\n",
              "        return;\n",
              "      }\n",
              "      const div = document.createElement('div');\n",
              "      const label = document.createElement('label');\n",
              "      label.textContent = `Downloading \"${filename}\": `;\n",
              "      div.appendChild(label);\n",
              "      const progress = document.createElement('progress');\n",
              "      progress.max = size;\n",
              "      div.appendChild(progress);\n",
              "      document.body.appendChild(div);\n",
              "\n",
              "      const buffers = [];\n",
              "      let downloaded = 0;\n",
              "\n",
              "      const channel = await google.colab.kernel.comms.open(id);\n",
              "      // Send a message to notify the kernel that we're ready.\n",
              "      channel.send({})\n",
              "\n",
              "      for await (const message of channel.messages) {\n",
              "        // Send a message to notify the kernel that we're ready.\n",
              "        channel.send({})\n",
              "        if (message.buffers) {\n",
              "          for (const buffer of message.buffers) {\n",
              "            buffers.push(buffer);\n",
              "            downloaded += buffer.byteLength;\n",
              "            progress.value = downloaded;\n",
              "          }\n",
              "        }\n",
              "      }\n",
              "      const blob = new Blob(buffers, {type: 'application/binary'});\n",
              "      const a = document.createElement('a');\n",
              "      a.href = window.URL.createObjectURL(blob);\n",
              "      a.download = filename;\n",
              "      div.appendChild(a);\n",
              "      a.click();\n",
              "      div.remove();\n",
              "    }\n",
              "  "
            ]
          },
          "metadata": {}
        },
        {
          "output_type": "display_data",
          "data": {
            "text/plain": [
              "<IPython.core.display.Javascript object>"
            ],
            "application/javascript": [
              "download(\"download_7bba573b-9526-4f1c-a678-1e350c018cdc\", \"pokedex_model.pkl\", 15844457)"
            ]
          },
          "metadata": {}
        }
      ]
    },
    {
      "cell_type": "code",
      "source": [
        "# นับจำนวนประเภท\n",
        "type_counts = pd.Series(y_train).value_counts()\n",
        "type_labels = le.inverse_transform(type_counts.index)\n",
        "\n",
        "# แสดงผล\n",
        "for label, count in zip(type_labels, type_counts):\n",
        "    print(f\"{label}: {count}\")\n"
      ],
      "metadata": {
        "colab": {
          "base_uri": "https://localhost:8080/"
        },
        "id": "AgOdxFTQfPgk",
        "outputId": "685d9d45-546d-45f0-c31b-ad34c68b3a80"
      },
      "execution_count": null,
      "outputs": [
        {
          "output_type": "stream",
          "name": "stdout",
          "text": [
            "water: 107\n",
            "normal: 94\n",
            "grass: 82\n",
            "bug: 66\n",
            "fire: 52\n",
            "psychic: 47\n",
            "electric: 47\n",
            "rock: 45\n",
            "dark: 34\n",
            "poison: 33\n",
            "fighting: 32\n",
            "ground: 31\n",
            "dragon: 30\n",
            "ghost: 27\n",
            "steel: 25\n",
            "fairy: 23\n",
            "ice: 23\n",
            "flying: 7\n"
          ]
        }
      ]
    },
    {
      "cell_type": "code",
      "source": [
        "import joblib\n",
        "from sklearn.preprocessing import StandardScaler\n",
        "\n",
        "# บันทึก StandardScaler\n",
        "scaler = StandardScaler()\n",
        "X_train_scaled = scaler.fit_transform(X_train_selected)\n",
        "X_test_scaled = scaler.transform(X_test_selected)\n",
        "\n",
        "joblib.dump(scaler, \"models/scaler.pkl\")  # บันทึก Scaler\n"
      ],
      "metadata": {
        "colab": {
          "base_uri": "https://localhost:8080/"
        },
        "id": "MoAXWawhfZ2h",
        "outputId": "e93662d3-6fd8-4818-c086-a99d01cf9763"
      },
      "execution_count": null,
      "outputs": [
        {
          "output_type": "execute_result",
          "data": {
            "text/plain": [
              "['models/scaler.pkl']"
            ]
          },
          "metadata": {},
          "execution_count": 14
        }
      ]
    },
    {
      "cell_type": "code",
      "source": [
        "files.download(\"models/scaler.pkl\")"
      ],
      "metadata": {
        "colab": {
          "base_uri": "https://localhost:8080/",
          "height": 17
        },
        "id": "CNXIGqjZfkrI",
        "outputId": "eb4dcf28-2366-447c-9ce8-a2f0d5c9a689"
      },
      "execution_count": null,
      "outputs": [
        {
          "output_type": "display_data",
          "data": {
            "text/plain": [
              "<IPython.core.display.Javascript object>"
            ],
            "application/javascript": [
              "\n",
              "    async function download(id, filename, size) {\n",
              "      if (!google.colab.kernel.accessAllowed) {\n",
              "        return;\n",
              "      }\n",
              "      const div = document.createElement('div');\n",
              "      const label = document.createElement('label');\n",
              "      label.textContent = `Downloading \"${filename}\": `;\n",
              "      div.appendChild(label);\n",
              "      const progress = document.createElement('progress');\n",
              "      progress.max = size;\n",
              "      div.appendChild(progress);\n",
              "      document.body.appendChild(div);\n",
              "\n",
              "      const buffers = [];\n",
              "      let downloaded = 0;\n",
              "\n",
              "      const channel = await google.colab.kernel.comms.open(id);\n",
              "      // Send a message to notify the kernel that we're ready.\n",
              "      channel.send({})\n",
              "\n",
              "      for await (const message of channel.messages) {\n",
              "        // Send a message to notify the kernel that we're ready.\n",
              "        channel.send({})\n",
              "        if (message.buffers) {\n",
              "          for (const buffer of message.buffers) {\n",
              "            buffers.push(buffer);\n",
              "            downloaded += buffer.byteLength;\n",
              "            progress.value = downloaded;\n",
              "          }\n",
              "        }\n",
              "      }\n",
              "      const blob = new Blob(buffers, {type: 'application/binary'});\n",
              "      const a = document.createElement('a');\n",
              "      a.href = window.URL.createObjectURL(blob);\n",
              "      a.download = filename;\n",
              "      div.appendChild(a);\n",
              "      a.click();\n",
              "      div.remove();\n",
              "    }\n",
              "  "
            ]
          },
          "metadata": {}
        },
        {
          "output_type": "display_data",
          "data": {
            "text/plain": [
              "<IPython.core.display.Javascript object>"
            ],
            "application/javascript": [
              "download(\"download_2c90c7c0-3965-4726-923a-1091d9a642ea\", \"scaler.pkl\", 759)"
            ]
          },
          "metadata": {}
        }
      ]
    }
  ]
}